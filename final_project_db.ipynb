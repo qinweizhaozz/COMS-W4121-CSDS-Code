{
 "cells": [
  {
   "cell_type": "markdown",
   "metadata": {},
   "source": [
    "# Part 2: Database Applications"
   ]
  },
  {
   "cell_type": "code",
   "execution_count": 2,
   "metadata": {
    "collapsed": true
   },
   "outputs": [],
   "source": [
    "import mysql.connector \n",
    "import redis "
   ]
  },
  {
   "cell_type": "markdown",
   "metadata": {},
   "source": [
    "FUNCTION 1 : find_mysql_by_id(id)"
   ]
  },
  {
   "cell_type": "code",
   "execution_count": 59,
   "metadata": {
    "collapsed": true
   },
   "outputs": [],
   "source": [
    "def  find_mysql_by_id(id):\n",
    "    path = mysql.connector.MySQLConnection(user='root', password='Dearlayla527', host = '127.0.0.1', port = '3306',\n",
    "                                           database='finalexamhw5')\n",
    "    cs = path.cursor(dictionary = True)\n",
    "    query = \"select * from finalexamhw5.mastersmall where playerID = %(ID)s;\"\n",
    "    cs.execute(query, {\"ID\" : id})\n",
    "    final = cs.fetchall()\n",
    "    path.close()\n",
    "    final = final[0]\n",
    "    output = {str(x):str(y) for x, y in final.items()}\n",
    "    return output\n"
   ]
  },
  {
   "cell_type": "code",
   "execution_count": 60,
   "metadata": {},
   "outputs": [
    {
     "data": {
      "text/plain": [
       "{'birthCountry': 'USA',\n",
       " 'birthYear': '1981',\n",
       " 'nameFirst': 'David',\n",
       " 'nameLast': 'Aardsma',\n",
       " 'playerID': 'aardsda01'}"
      ]
     },
     "execution_count": 60,
     "metadata": {},
     "output_type": "execute_result"
    }
   ],
   "source": [
    "find_mysql_by_id('aardsda01')"
   ]
  },
  {
   "cell_type": "markdown",
   "metadata": {},
   "source": [
    "FUNCTION 2: find_redis_by_id(id)"
   ]
  },
  {
   "cell_type": "code",
   "execution_count": 61,
   "metadata": {
    "collapsed": true
   },
   "outputs": [],
   "source": [
    "def find_redis_by_id(id):\n",
    "    re = redis.StrictRedis(host='localhost', port=6379, charset=\"utf-8\", decode_responses=True)\n",
    "    item = re.hgetall(\"player : \" +id)\n",
    "    return item"
   ]
  },
  {
   "cell_type": "code",
   "execution_count": 62,
   "metadata": {},
   "outputs": [
    {
     "data": {
      "text/plain": [
       "{}"
      ]
     },
     "execution_count": 62,
     "metadata": {},
     "output_type": "execute_result"
    }
   ],
   "source": [
    "find_redis_by_id('aardsda01')"
   ]
  },
  {
   "cell_type": "markdown",
   "metadata": {},
   "source": [
    "FUNCTION 3: add_to_redis(id, data)"
   ]
  },
  {
   "cell_type": "code",
   "execution_count": 63,
   "metadata": {
    "collapsed": true
   },
   "outputs": [],
   "source": [
    "def add_to_redis(id, data):\n",
    "    re = redis.StrictRedis(host = \"localhost\", port = 6379, charset = \"utf-8\", decode_responses = True)\n",
    "    re.hmset(\"player : \" + id, data)\n",
    "    "
   ]
  },
  {
   "cell_type": "markdown",
   "metadata": {},
   "source": [
    "FUNCTION 4: find_by_id(id)"
   ]
  },
  {
   "cell_type": "code",
   "execution_count": 64,
   "metadata": {
    "collapsed": true
   },
   "outputs": [],
   "source": [
    "def find_by_id(id):\n",
    "    l = find_redis_by_id(id)\n",
    "    if l == {}:\n",
    "        data = find_mysql_by_id(id)\n",
    "        add_to_redis(id, data)\n",
    "        l = find_redis_by_id(id)\n",
    "    return l\n",
    "    "
   ]
  },
  {
   "cell_type": "code",
   "execution_count": 66,
   "metadata": {},
   "outputs": [
    {
     "data": {
      "text/plain": [
       "{u'birthCountry': u'USA',\n",
       " u'birthYear': u'1981',\n",
       " u'nameFirst': u'David',\n",
       " u'nameLast': u'Aardsma',\n",
       " u'playerID': u'aardsda01'}"
      ]
     },
     "execution_count": 66,
     "metadata": {},
     "output_type": "execute_result"
    }
   ],
   "source": [
    "find_by_id('aardsda01')"
   ]
  },
  {
   "cell_type": "code",
   "execution_count": null,
   "metadata": {
    "collapsed": true
   },
   "outputs": [],
   "source": []
  },
  {
   "cell_type": "code",
   "execution_count": null,
   "metadata": {
    "collapsed": true
   },
   "outputs": [],
   "source": []
  }
 ],
 "metadata": {
  "kernelspec": {
   "display_name": "Python 3",
   "language": "python",
   "name": "python3"
  },
  "language_info": {
   "codemirror_mode": {
    "name": "ipython",
    "version": 3
   },
   "file_extension": ".py",
   "mimetype": "text/x-python",
   "name": "python",
   "nbconvert_exporter": "python",
   "pygments_lexer": "ipython3",
   "version": "3.6.4"
  }
 },
 "nbformat": 4,
 "nbformat_minor": 2
}
