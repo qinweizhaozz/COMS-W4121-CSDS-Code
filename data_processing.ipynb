{
 "cells": [
  {
   "cell_type": "markdown",
   "metadata": {},
   "source": [
    "# Homework 2\n",
    "***\n",
    "* Assigned: 02/07\n",
    "* Due: **02/27 at 11:59pm** electronically\n",
    "* This assignment is worth 100 points.\n",
    "\n",
    "**Please do read the instructions for each response carefully, since a whole lot of different variety of reponses are involved in the assignment (including pasting code snippets, writing executable code, small writeups). You don't wanna be losing points for silly errors.**\n",
    "\n",
    "### Jupyter Notes:\n",
    "\n",
    "* You **may** create new IPython notebook cells to use for e.g. testing, debugging, exploring, etc.- this is encouraged in fact!\n",
    "  * you can press shift+enter to execute the code in the cell that your cursor is in.\n",
    "* When you see `In [*]:` to the left of the cell you are executing, this means that the code / query is _running_. Please wait for the execution to complete\n",
    "    * **If the cell is hanging- i.e. running for too long: you can restart the kernel**\n",
    "    * To restart kernel using the menu bar: \"Kernel >> Restart >> Clear all outputs & restart\"), then re-execute cells from the top\n",
    "* _Have fun!_\n",
    "\n",
    "\n",
    "### Setup Your Credentials\n",
    "\n",
    "Update the following variables"
   ]
  },
  {
   "cell_type": "code",
   "execution_count": null,
   "metadata": {
    "collapsed": true
   },
   "outputs": [],
   "source": [
    "# Your columbia uni that is used in SSOL\n",
    "#\n",
    "# IMPORTANT:  make sure this is consistent with the uni/alias used as your @columbia.edu email in SSOL\n",
    "#\n",
    "UNI = \"qz2307\"\n",
    "\n",
    "# your instabase username (if you go to the instabase homepage, your username should be in the URL)\n",
    "USER = \"QinweiZhao\"\n",
    "\n",
    "# your repository name containing \n",
    "REPO = \"my-repo\""
   ]
  },
  {
   "cell_type": "markdown",
   "metadata": {},
   "source": [
    "# Data Processing\n",
    "\n",
    "In this lab, you will use various types of tools -- from high-level tools like Data Wrangler to command line tools like `sed` and `awk` -- to perform data parsing and extraction from data encoded into a text file.  The goal of this lab is simply to gain experience with these tools and compare and contrast their usage.\n",
    "\n",
    "The `lab` directory contains two datasets that you will work with:\n",
    "\n",
    "1. A dataset of all the movies in 2013 from January to March (`2013films.txt`). It contains Movie name, Production house, Genre, Publisher and some other details.\n",
    "\n",
    "1. The second dataset (`worldcup.txt`) is a snippet of the following Wikipedia webpage on [FIFA (Soccer) World Cup](http://en.wikipedia.org/wiki/FIFA_World_Cup).\n",
    "Specifically it is a partially cleaned-up wiki source for the table toward the end of the page that lists teams finishing in the top 4. "
   ]
  },
  {
   "cell_type": "markdown",
   "metadata": {},
   "source": [
    "***\n",
    "# 1. Get Wrangling !!\n",
    "***\n",
    "Download the [Trifacta Wrangler](https://www.trifacta.com/products/wrangler/) tool. Load both the datasets into wrangler and try playing around with the tool.\n",
    "\n",
    "Some tips using Wrangler:\n",
    "\n",
    "* Check out the introduction [video](https://vimeo.com/19185801) to get a feel of how wrangler works.\n",
    "* You may wanna start off by loading ~50 lines of data instead of the entire files and play around with the tool.\n",
    "* Wrangler responds to mouse highlights and clicks on the displayed table cells by suggesting operations on the left sidebar.  \n",
    "* Hovering over each element shows the result in the table view.  \n",
    "* Clicking adds the operation.  \n",
    "* Clear the sidebar by clicking the colored row above the schema row.\n",
    "\n",
    "## Tasks:\n",
    "\n",
    "Use Data Wrangler for the following two datasets.  \n"
   ]
  },
  {
   "cell_type": "markdown",
   "metadata": {},
   "source": [
    "### 2013films.txt\n",
    "\n",
    "Use the tool to generate output as follows, i.e., Movie name, Production/Distribtuion house, Director, Genre and publisher. \n",
    "\n",
    "        'A dark truth, Magnolia Pictures, Damian Lee, Action,ComingSoon.net\n",
    "         Table No. 21, Eros International, Aditya Datt, Thriller, BoxOfficeMojo.com\n",
    "         ...\n",
    "        \n",
    "For the purpose of explanation columns are separated by ||. You can choose any pattern to extract information. \n",
    "\n",
    "1. Movie name can be identified as first column in every line formatted as ''[[ <movie name> ]]''  \n",
    "1. Production/Distribution house is the following column that is formatted as [[< Production house>]]  \n",
    "1. Director name can be identified with \"(director)\" tag that follows the name  \n",
    "1. Genre is present in the next column but make sure to extract only second part that is separated by | operator. For eg. in [Action film|Action] relevant information is Action  \n",
    "1. Publisher name can be identified in the last column with format \"publisher=<publisher name>\"  \n",
    "1. It may help to skip first few lines that contains html code, so that you process actual records.\n",
    "\n",
    "#### Questions\n",
    "\n",
    "* Use wrangler to clean the data, then determine which Production/Distribution house produced maximum movies.\n",
    "\n",
    "#### Notes\n",
    "* Your wrangler script is not expected to be sophisticated enough to generate the results for the question asked. It just needs to clean/combine the data enough for you to observe the data and answer the question.\n",
    "* You can export the transformations you carried out in wrangler.\n",
    "Export the script and paste it in the cell below. Do not bother executing it here in the notebook.\n",
    "* Stanford also has an online open-source version of Trifacta Wrangler that can be used [here](http://vis.stanford.edu/wrangler/)."
   ]
  },
  {
   "cell_type": "markdown",
   "metadata": {},
   "source": [
    "#### Questions: \n",
    "Use wrangler to clean the data, then determine which Production/Distribution house produced maximum movies.\n",
    "\n",
    "#### Answer:\n",
    "Warner Bro and Universal·Studios|Universal·Pictures "
   ]
  },
  {
   "cell_type": "code",
   "execution_count": null,
   "metadata": {},
   "outputs": [],
   "source": [
    "# your wrangler script goes in this cell below\n",
    "\n",
    "delete row: matches([column1], `!`)\n",
    "delete row: matches([column1], `text-align:center`)\n",
    "delete row: matches([column1], `\\|-`)\n",
    "delete row: matches([column1], `\\{\\| `)\n",
    "delete row: matches([column1], `==`)\n",
    "delete row: matches([column1], `\\|\\}`)\n",
    "delete row: matches([column1], `align=bottom`)\n",
    "split col: column1 on: ` \\|\\| `\n",
    "split col: column3 on: ` \\|\\| `\n",
    "replace col: column1 with: '' on: `[[` global: true\n",
    "replace col: column1 with: '' on: `]]` global: true\n",
    "extractlist col: column1 on: `{any}+` delimiter: `/` as: 'column3'\n",
    "flatten col: column3\n",
    "replace col: column3 with: '' on: `{start}{delim}`\n",
    "derive value: count() group: column3 as: 'column5'"
   ]
  },
  {
   "cell_type": "markdown",
   "metadata": {},
   "source": [
    "### worldcup.txt\n",
    "\n",
    "Use the tool to generate output as follows, i.e., each line in the output contains a country, a year, and the position of the county in that year (if within top 4).\n",
    "\n",
    "        BRA, 1962, 1\n",
    "        BRA, 1970, 1\n",
    "        BRA, 1994, 1\n",
    "        BRA, 2002, 1\n",
    "        BRA, 1958, 1\n",
    "        BRA, 1998, 2\n",
    "        BRA, 1950, 2\n",
    "        ...\n",
    "\n",
    "It may help to \n",
    "\n",
    "1. Skip the first 20 or so rows of table headers and other text, so that the data wrangler works with are \"record text\".  \n",
    "2. Delete the rows that are clearly HTML formatting content\n",
    "3. Extract the relevant data from the remaining column into new columns\n",
    "4. Use the fill operation\n",
    "\n",
    "#### Questions\n",
    "\n",
    "* According to the dataset, how often has each country won the world cup?\n",
    "\n",
    "#### Notes\n",
    "* Your wrangler script is not expected to be sophisticated enough to generate the results for the question asked. It just needs to clean/combine the data enough for you to observe the data and answer the question.\n",
    "* You can export the transformations you carried out in wrangler. Export the script and paste it in the cell below. Do not bother executing it here in the notebook."
   ]
  },
  {
   "cell_type": "markdown",
   "metadata": {},
   "source": [
    "#### Question: \n",
    "According to the dataset, how often has each country won the world cup?\n",
    "\n",
    "#### Answer: \n",
    "The following are countries and times they getting the first ranking. GER-3, FRA-1, BRA-5, ESP-1, URU-2, ARG-2, ENG-1, ITA-4"
   ]
  },
  {
   "cell_type": "code",
   "execution_count": null,
   "metadata": {
    "collapsed": true
   },
   "outputs": [],
   "source": [
    "# your wrangler script goes in this cell below\n",
    "delete row: sourcerownumber() == 1\n",
    "delete row: in(sourcerownumber(), [171,172,173])\n",
    "split col: column1 on: ' ' limit: 20\n",
    "drop col: column4, column5, column6, column8, column9, column10, column12, column13, column14, column16, column17, column18, column20, column21, column22\n",
    "replace col: column3 with: '' on: `\\([[` global: true\n",
    "replace col: column7 with: '' on: `[[` global: true\n",
    "replace col: column11 with: '' on: `[[` global: true\n",
    "replace col: column15 with: '' on: `[[` global: true\n",
    "replace col: column19 with: '' on: `[[` global: true\n",
    "replace col: column2 with: '' on: `\\|bgcolor=\\#FFF68F` global: true\n",
    "extract col: column2 on: `{upper}{3}`\n",
    "set col: column1 value: fill(ifmissing($col, null())) order: sourcerownumber()\n",
    "drop col: column2\n",
    "delete row: ismissing([column3])\n",
    "replace col: column3 with: '' on: `—` global: true\n",
    "window value: rownumber() order: column1 group: column1\n",
    "delete row: ismissing([column3])\n",
    "merge col: column3,column7,column11,column15,column19 with: ' ' as: 'column2'\n",
    "extractlist col: column2 on: `{any}+` delimiter: ` ` as: 'column4'\n",
    "flatten col: column4\n",
    "delete row: ismissing([column4])\n",
    "drop col: column3, column7, column11, column15, column19, column2\n",
    "derive value: count() group: column1,window as: 'column2'"
   ]
  },
  {
   "cell_type": "markdown",
   "metadata": {},
   "source": [
    "***\n",
    "# 2. Grep, Sed & Awk\n",
    "***\n",
    "\n",
    "The set of three UNIX tools, sed, awk, and grep, can be very useful for quickly cleaning up and transforming data for further analysis (and have been around since the inception of UNIX). In conjunction with other unix utilities like sort, uniq, tail, head, etc., you can accomplish many simple data parsing and cleaning tasks with these tools. You are encouraged to play with these tools and familiarize yourselves with the basic usage of these tools."
   ]
  },
  {
   "cell_type": "markdown",
   "metadata": {},
   "source": [
    "# grep"
   ]
  },
  {
   "cell_type": "markdown",
   "metadata": {},
   "source": [
    "```bash\n",
    "grep 'regexp' filename\n",
    "```"
   ]
  },
  {
   "cell_type": "markdown",
   "metadata": {},
   "source": [
    "or equivalently (using UNIX pipelining):"
   ]
  },
  {
   "cell_type": "markdown",
   "metadata": {
    "collapsed": true
   },
   "source": [
    "```bash\n",
    "cat filename | grep 'regexp'\n",
    "```"
   ]
  },
  {
   "cell_type": "markdown",
   "metadata": {},
   "source": [
    "The output contains only those lines from the file that match the regular expression. Two options to grep are useful: grep -v will output those lines that do not match the regular expression, and grep -i will ignore case while matching. See the manual (man grep) (or online resources) for more details."
   ]
  },
  {
   "cell_type": "markdown",
   "metadata": {},
   "source": [
    "# sed"
   ]
  },
  {
   "cell_type": "markdown",
   "metadata": {},
   "source": [
    "Sed stands for stream editor. Basic syntax for sed is:"
   ]
  },
  {
   "cell_type": "markdown",
   "metadata": {
    "collapsed": true
   },
   "source": [
    "```bash\n",
    "sed 's/regexp/replacement/g' filename\n",
    "```"
   ]
  },
  {
   "cell_type": "markdown",
   "metadata": {},
   "source": [
    "For each line in the intput, the portion of the line that matches regexp (if any) is replaced with replacement. Sed is quite powerful within the limits of operating on single line at a time. You can use \\( \\) to refer to parts of the pattern match. In the first sed command above, the sub-expression within \\( \\) extracts the user id, which is available to be used in the replacement as \\1."
   ]
  },
  {
   "cell_type": "markdown",
   "metadata": {},
   "source": [
    "# awk"
   ]
  },
  {
   "cell_type": "markdown",
   "metadata": {},
   "source": [
    "Finally, awk is a powerful scripting language (not unlike perl). The basic syntax of awk is:"
   ]
  },
  {
   "cell_type": "markdown",
   "metadata": {
    "collapsed": true
   },
   "source": [
    "```bash\n",
    "awk -F',' 'BEGIN{commands} /regexp1/ {command1} /regexp2/ {command2} END{commands}'\n",
    "```"
   ]
  },
  {
   "cell_type": "markdown",
   "metadata": {},
   "source": [
    "For each line, the regular expressions are matched in order, and if there is a match, the corresponding command is executed (multiple commands may be executed for the same line). BEGIN and END are both optional. The -F',' specifies that the lines should be split into fields using the separator \",\", and those fields are available to the regular expressions and the commands as $1, $2, etc. See the manual (man awk) or online resources for further details."
   ]
  },
  {
   "cell_type": "markdown",
   "metadata": {},
   "source": [
    "# EXAMPLES\n",
    "\n",
    "#### Note\n",
    "There's nothing to submit in the examples section. Task to carry out and submit will follow after this section. Just play around and get a hang of the bash commands described here"
   ]
  },
  {
   "cell_type": "markdown",
   "metadata": {},
   "source": [
    "***\n",
    "\n",
    "We start off by copying the files from our instabase repository to the VM filesystem our instabse instance is running on.\n",
    "Remember, you'll have to execute the cell below everytime the VM is restarted (happens when you close and restart the notebook) before you can proceed with the bash examples that follow."
   ]
  },
  {
   "cell_type": "code",
   "execution_count": 4,
   "metadata": {},
   "outputs": [],
   "source": [
    "with ib.open(\"labor.csv\") as f:\n",
    "    labor=f.read()\n",
    "with ib.open(\"crime-clean.txt\") as f:\n",
    "    crime_clean=f.read()\n",
    "with ib.open(\"crime-unclean.txt\") as f:\n",
    "    crime_unclean=f.read()\n",
    "\n",
    "open('/tmp/labor.csv','w').write(labor)\n",
    "open('/tmp/crime-clean.txt','w').write(crime_clean)\n",
    "open('/tmp/crime_unclean.txt','w').write(crime_unclean)\n"
   ]
  },
  {
   "cell_type": "markdown",
   "metadata": {},
   "source": [
    "A few examples to give you a flavor of the tools and what one can do with them.\n",
    "\n",
    "* Perform the equivalent of wrap on labor.csv (i.e., merge consecutive groups of lines referring to the same record)"
   ]
  },
  {
   "cell_type": "code",
   "execution_count": null,
   "metadata": {},
   "outputs": [],
   "source": [
    "%%bash \n",
    "\n",
    "cat /tmp/labor.csv | awk '/^Series Id:/ {print combined; combined = $0} \n",
    "                    !/^Series Id:/ {combined = combined\", \"$0;}\n",
    "                    END {print combined}'"
   ]
  },
  {
   "cell_type": "markdown",
   "metadata": {},
   "source": [
    "*Note that all bash cells begin with **%%bash**. This indicates that, what follows is a bash code/script.*\n",
    "\n",
    "\n",
    "* On crime-clean.txt, the following command does a fill (first row of output: \"Alabama, 2004, 4029.3\"."
   ]
  },
  {
   "cell_type": "code",
   "execution_count": null,
   "metadata": {},
   "outputs": [],
   "source": [
    "%%bash \n",
    "\n",
    "cat /tmp/crime-clean.txt | grep -v '^,$' | awk '/^[A-Z]/ {state = $4} !/^[A-Z]/ {print state, $0}'\n",
    "#cat crime-clean.txt | grep -v '^,$' | awk '/^[A-Z]/ {state = $4} !/^[A-Z]/ {print state, $0}'"
   ]
  },
  {
   "cell_type": "markdown",
   "metadata": {},
   "source": [
    "* On crime-clean.txt, the following script cleans the data. The following works assuming perfectly homogenous data (as the example on the Wrangler website is)."
   ]
  },
  {
   "cell_type": "code",
   "execution_count": null,
   "metadata": {},
   "outputs": [],
   "source": [
    "%%bash\n",
    "\n",
    "cat /tmp/crime-clean.txt |grep -v '^,$' | sed 's/,$//g; s/Reported crime in //; s/[0-9]*,//' | awk -F',' 'BEGIN {printf \"State, 2004, 2005, 2006, 2007, 2008\"} /^[A-Z]/ {print c; c=$0}  !/^[A-Z]/ {c=c\", \"$0;}  END {print c}'"
   ]
  },
  {
   "cell_type": "markdown",
   "metadata": {},
   "source": [
    "\n",
    "* On crime-unclean.txt the follow script perfroms the same cleaning as above, but allows incomplete information (e.g., some years may be missing)."
   ]
  },
  {
   "cell_type": "code",
   "execution_count": null,
   "metadata": {
    "scrolled": false
   },
   "outputs": [],
   "source": [
    "%%bash\n",
    "\n",
    "cat /tmp/crime_unclean.txt | grep -v '^,$' | sed 's/Reported crime in //;' | \n",
    "        awk -F',' 'BEGIN {printf \"State, 2000, 2001, 2002, 2003, 2004, 2005, 2006, 2007, 2008\\n\"} /^[A-Z]/ || /^$/ { if(state) { printf(state); for(i = 2000; i <= 2008; i++) { if(array[i]) {printf(\"%s,\", array[i])} else {printf(\"0,\")} }; printf(\"\\n\");} state=$0; delete array} !/^[A-Z]/ {array[$1] = $2}'"
   ]
  },
  {
   "cell_type": "markdown",
   "metadata": {},
   "source": [
    "We provided the last example to show how powerful awk can be. However if you need to write a long command like this, you may be better off using a proper scripting language like perl or python!"
   ]
  },
  {
   "cell_type": "markdown",
   "metadata": {},
   "source": [
    "# Finally, the tasks."
   ]
  },
  {
   "cell_type": "markdown",
   "metadata": {},
   "source": [
    "* Use the awk \"split\" function and \"for loop\" constructs on World Cup data, to again generate output as follows, i.e., each line in the output contains a country, a year, and the position of the county in that year (if within top 4).\n",
    "\n",
    "        BRA, 1962, 1\n",
    "        BRA, 1970, 1\n",
    "        BRA, 1994, 1\n",
    "        BRA, 2002, 1\n",
    "        BRA, 1958, 1\n",
    "        BRA, 1998, 2\n",
    "        BRA, 1950, 2\n",
    "        ...\n",
    "\n",
    "* Start with the given script that cleans up the data a little bit.\n",
    "* No need to re-answer the questions in the Wrangler section, but recompute them to ensure your answers are consistent."
   ]
  },
  {
   "cell_type": "code",
   "execution_count": 29,
   "metadata": {},
   "outputs": [],
   "source": [
    "with ib.open(\"worldcup.txt\") as f:\n",
    "    world_cup=f.read()\n",
    "    \n",
    "open('/tmp/worldcup.txt','w').write(world_cup)"
   ]
  },
  {
   "cell_type": "code",
   "execution_count": 30,
   "metadata": {
    "scrolled": true
   },
   "outputs": [
    {
     "name": "stdout",
     "output_type": "stream",
     "text": [
      "BRA, 1958, 1\n",
      "BRA, 1962, 1\n",
      "BRA, 1970, 1\n",
      "BRA, 1994, 1\n",
      "BRA, 2002, 1\n",
      "BRA, 1950, 2\n",
      "BRA, 1998, 2\n",
      "BRA, 1938, 3\n",
      "BRA, 1978, 3\n",
      "BRA, 1974, 4\n",
      "ITA, 1934, 1\n",
      "ITA, 1938, 1\n",
      "ITA, 1982, 1\n",
      "ITA, 2006, 1\n",
      "ITA, 1970, 2\n",
      "ITA, 1994, 2\n",
      "ITA, 1990, 3\n",
      "ITA, 1978, 4\n",
      "GER, 1954, 1\n",
      "GER, 1974, 1\n",
      "GER, 1990, 1\n",
      "GER, 1966, 2\n",
      "GER, 1982, 2\n",
      "GER, 1986, 2\n",
      "GER, 2002, 2\n",
      "GER, 1934, 3\n",
      "GER, 1970, 3\n",
      "GER, 2006, 3\n",
      "GER, 2010, 3\n",
      "GER, 1958, 4\n",
      "ARG, 1978, 1\n",
      "ARG, 1986, 1\n",
      "ARG, 1930, 2\n",
      "ARG, 1990, 2\n",
      "URU, 1930, 1\n",
      "URU, 1950, 1\n",
      "URU, 1954, 4\n",
      "URU, 1970, 4\n",
      "URU, 2010, 4\n",
      "FRA, 1998, 1\n",
      "FRA, 2006, 2\n",
      "FRA, 1958, 3\n",
      "FRA, 1986, 3\n",
      "FRA, 1982, 4\n",
      "ENG, 1966, 1\n",
      "ENG, 1990, 4\n",
      "ESP, 2010, 1\n",
      "ESP, 1950, 4\n",
      "NED, 1974, 2\n",
      "NED, 1978, 2\n",
      "NED, 2010, 2\n",
      "NED, 1998, 4\n",
      "TCH, 1934, 2\n",
      "TCH, 1962, 2\n",
      "HUN, 1938, 2\n",
      "HUN, 1954, 2\n",
      "SWE, 1958, 2\n",
      "SWE, 1950, 3\n",
      "SWE, 1994, 3\n",
      "SWE, 1938, 4\n",
      "POL, 1974, 3\n",
      "POL, 1982, 3\n",
      "AUT, 1954, 3\n",
      "AUT, 1934, 4\n",
      "POR, 1966, 3\n",
      "POR, 2006, 4\n",
      "USA, 1930, 3\n",
      "CHI, 1962, 3\n",
      "CRO, 1998, 3\n",
      "TUR, 2002, 3\n",
      "YUG, 1930, 4\n",
      "YUG, 1962, 4\n",
      "URS, 1966, 4\n",
      "BEL, 1986, 4\n",
      "BUL, 1994, 4\n",
      "KOR, 2002, 4\n"
     ]
    }
   ],
   "source": [
    "%%bash \n",
    "\n",
    "\n",
    "cat /tmp/worldcup.txt| sed 's/\\[\\[\\([0-9]*\\)[^]]*\\]\\]/\\1/g; s/.*fb|\\([A-Za-z]*\\)}}/\\1/g; s/<sup><\\/sup>//g; s/|bgcolor[^|]*//g; s/|align=center[^|]*//g; s/^|//g; s/ (/, /g; s/)$//g; s/^[0-9], //g; s/)$//g; s/^[0-9], //g; s/ —/ /g; s/$/,/' | grep -v '^[:!-]' | awk -F',' '/^[A-Z]/ {country = $0; b = 0} !/^[A-Z]/ {split($0,years,\" \"); b++; for(yr in years){ if(b<5 && years[yr] != \",\") {print country, years[yr], b}}}'"
   ]
  },
  {
   "cell_type": "markdown",
   "metadata": {},
   "source": [
    "\n",
    "# Questions\n",
    "\n",
    "1. From your experience, briefly discuss the pro and cons between using Data Wrangler as compared to lower levels tools like sed/awk?\n",
    "2. What additional operations would have made using Data Wrangler \"easier\"?\n",
    "\n",
    "#### Note\n",
    "While responding to markdown cells (as the one below), in case you struggle with formatting, just double click any of the markdown cells in the notebook to see how formatting is done. You may also consult the documentation [here](http://jupyter-notebook.readthedocs.io/en/latest/examples/Notebook/Working%20With%20Markdown%20Cells.html)"
   ]
  },
  {
   "cell_type": "markdown",
   "metadata": {
    "collapsed": true
   },
   "source": [
    "***\n",
    "### Add your response below:\n",
    "\n",
    "1. Data wrangler is good for visulization and easily to operate. However, Data Wrangler is teddious to do aggregation and cleanning formate of dataset.\n",
    "\n",
    "2. Delete and split operations are easily to operate using Data Wrangler.\n"
   ]
  },
  {
   "cell_type": "markdown",
   "metadata": {},
   "source": [
    "***\n",
    "# 3. Tableau\n",
    "***\n",
    "\n",
    "Finally, you will perform data exploration with Tableau.\n",
    "\n",
    "1. Go to the [Tableau Website](https://www.tableau.com/), and download a demo version of Tableau.\n",
    "\n",
    "    * Tableau gives students a 1 year free license, which can be requested [here](http://www.tableau.com/freeforstudents).\n",
    "\n",
    "2. Connect Tableau to the the OnTime database, hosted on a postgreSQL server we set up for the course.\n",
    "To do so, create a new Tableau workbook.\n",
    "In the workbook, goto data and add a new data source using the credentials below:\n",
    "\n",
    "    * Type: PostgreSQL (you may have to download an additional driver for postgreSQL, [here](https://www.tableau.com/support/drivers)) (only if you can't connect)\n",
    "    * Hostname: pg-001.db.gcloud.instabase.com\n",
    "    * Username: columbia\n",
    "    * Password: B%38Mt5W@M*QU?Ar\n",
    "    * Database: db_fea10998_f88d_4b6e_8f90_a6cd73bac65c\n",
    "    * You should use the table called \"Ontime\".\n",
    "    \n",
    "3. Explore the dataset using Tableau.\n",
    "\n",
    "The aim of this assignment is to understand (1) which flights are the likeliest to be delayed (2) why they are delayed (3) what we could have missed in the data\n",
    "\n",
    "**(1) Which flights are delayed? (You're expected to answer any 2 of the 5 questions below)**\n",
    "- Long flights or short flights?\n",
    "- Which companies?\n",
    "- At what time of the day?\n",
    "- Which state are the most impacted?\n",
    "- Take California. Which cities are the most concerned? And how about NY state?\n",
    "\n",
    "**(2) Why are flights delayed? (You're expected to answer any 2  of the 6 questions below)**\n",
    "- What is the likeliest cause of delays?\n",
    "- Does that depend on the region?\n",
    "- Compare California and NY state\n",
    "- Compare Morning flights and evening flights\n",
    "- Compare weekends and rest of the week\n",
    "- Compare first week of dataset and last week\n",
    "\n",
    "**(3) what we could have missed in the data**\n",
    "- Find three quirky facts about flight delays. Anything goes, as long it involves at least one aggregate and one filter."
   ]
  },
  {
   "cell_type": "markdown",
   "metadata": {
    "collapsed": true
   },
   "source": [
    "***\n",
    "### Add you response below:\n",
    "\n",
    "***\n",
    "I am considering departure delays for the following questions\n",
    "\n",
    "\n",
    "1(a) (Question): Which companies?\n",
    "\n",
    "1(a) (Response): HA, DL, EV, US, NK, AS, VX, MQ, AA, OO, B6, UA, WN, F9\n",
    "\n",
    "***\n",
    "1(b) (Question): Which state are the most impacted?\n",
    "\n",
    "1(b) (Response): TX has 23,930 delays\n",
    "\n",
    "***\n",
    "2(a) (Question): Does that depend on the region?\n",
    "\n",
    "2(a) (Response): Yes. The number of delays varies according to origin city. Chicago has the largest number of delays which is 15,145. However, Moab has only 2 delays.\n",
    "\n",
    "***\n",
    "2(b) (Question): Compare weekends and rest of the week\n",
    "\n",
    "2(b) (Response): Tuesday and Wednesday have relatively fewer delays and Thursday and Friday have more delays in comparsion to weekends. And the number of delays on Monday is similar to weekends.\n",
    "\n",
    "***\n",
    "3 (Response):\n",
    "\n",
    "1. Carrier WN has the most delays.\n",
    "\n",
    "2. Airline with id:19,393.00 has the most delays.\n",
    "\n",
    "3. Flight date: 1/4/2015 has the most delays.\n",
    "\n",
    "\n"
   ]
  },
  {
   "cell_type": "markdown",
   "metadata": {},
   "source": [
    "\n",
    "# Submission\n",
    "\n",
    "* Got to 'File' and download this notebook as .ipynb\n",
    "* Rename it as **data\\_processing\\_[your uni].ipynb**\n",
    "* Then submit it on Instabase.\n"
   ]
  },
  {
   "cell_type": "code",
   "execution_count": null,
   "metadata": {},
   "outputs": [],
   "source": []
  }
 ],
 "metadata": {
  "anaconda-cloud": {},
  "kernelspec": {
   "display_name": "Python 3",
   "language": "python",
   "name": "python3"
  },
  "language_info": {
   "codemirror_mode": {
    "name": "ipython",
    "version": 3
   },
   "file_extension": ".py",
   "mimetype": "text/x-python",
   "name": "python",
   "nbconvert_exporter": "python",
   "pygments_lexer": "ipython3",
   "version": "3.6.4"
  }
 },
 "nbformat": 4,
 "nbformat_minor": 1
}
