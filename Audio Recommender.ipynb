{
 "cells": [
  {
   "cell_type": "code",
   "execution_count": 1,
   "metadata": {},
   "outputs": [],
   "source": [
    "from pyspark import SparkConf, SparkContext\n",
    "from pyspark.mllib.recommendation import *\n",
    "conf = SparkConf().setAppName(\"ALS\")\n",
    "sc = SparkContext()"
   ]
  },
  {
   "cell_type": "code",
   "execution_count": 2,
   "metadata": {},
   "outputs": [],
   "source": [
    "def parse_artist(x):\n",
    "    try:\n",
    "        return int(x)\n",
    "    except:\n",
    "        pass"
   ]
  },
  {
   "cell_type": "code",
   "execution_count": 7,
   "metadata": {},
   "outputs": [],
   "source": [
    "rawArtistData = sc.textFile(\"artist_data.txt\")"
   ]
  },
  {
   "cell_type": "code",
   "execution_count": 8,
   "metadata": {},
   "outputs": [],
   "source": [
    "artistByID = rawArtistData.map(lambda x: x.split('\\t'))\\\n",
    "                        .filter(lambda x: len(x) == 2)\\\n",
    "                          .map(lambda x: [parse_artist(x[0]), x[1]])"
   ]
  },
  {
   "cell_type": "code",
   "execution_count": 9,
   "metadata": {},
   "outputs": [],
   "source": [
    "def parse_alias(x,y):\n",
    "    try:\n",
    "        return [int(x), int(y)]\n",
    "    except:\n",
    "        pass"
   ]
  },
  {
   "cell_type": "code",
   "execution_count": 10,
   "metadata": {},
   "outputs": [],
   "source": [
    "rawArtistAlias = sc.textFile(\"artist_alias.txt\")"
   ]
  },
  {
   "cell_type": "code",
   "execution_count": 11,
   "metadata": {},
   "outputs": [],
   "source": [
    "artistAlias = rawArtistAlias.map(lambda x: x.split('\\t'))\\\n",
    "                             .filter(lambda x : x[0] != '')\\\n",
    "                            .map(lambda x: parse_alias(x[0], x[1]))\\\n",
    "                            .collectAsMap()"
   ]
  },
  {
   "cell_type": "code",
   "execution_count": 12,
   "metadata": {},
   "outputs": [],
   "source": [
    "def convert_to_goodId(x):\n",
    "    if x[1] in artistAlias.keys():\n",
    "        x[1] = artistAlias.get(x[1])\n",
    "    return [x[0], x[1], x[2]]"
   ]
  },
  {
   "cell_type": "code",
   "execution_count": 13,
   "metadata": {},
   "outputs": [],
   "source": [
    "rawUserArtistData = sc.textFile(\"user_artist_data.txt\")"
   ]
  },
  {
   "cell_type": "code",
   "execution_count": 14,
   "metadata": {},
   "outputs": [],
   "source": [
    "UserArtistData = rawUserArtistData.map(lambda x: x.split(' '))\\\n",
    "                                  .map(lambda x: [int(x[0]), int(x[1]), int(x[2])])\\\n",
    "                                    .map(convert_to_goodId)\\\n",
    "                                .cache()"
   ]
  },
  {
   "cell_type": "code",
   "execution_count": 15,
   "metadata": {},
   "outputs": [],
   "source": [
    "model = ALS.trainImplicit(UserArtistData, 10, 5, 0.01)"
   ]
  },
  {
   "cell_type": "code",
   "execution_count": 18,
   "metadata": {},
   "outputs": [],
   "source": [
    "recommendation = model.recommendProducts (2093760 , 10)"
   ]
  },
  {
   "cell_type": "code",
   "execution_count": 25,
   "metadata": {},
   "outputs": [
    {
     "name": "stdout",
     "output_type": "stream",
     "text": [
      "None 0.9975880420728608\n",
      "None 0.997503918719121\n",
      "None 0.9960366682056853\n",
      "None 0.9958308696239973\n",
      "None 0.9954875199246301\n",
      "None 0.9948097969351956\n",
      "None 0.9940974477627781\n",
      "None 0.9940290297217184\n",
      "None 0.9935819594191873\n",
      "None 0.9935416299294184\n"
     ]
    }
   ],
   "source": [
    "artistMap=artistByID.collectAsMap()\n",
    "for i in recommendation:\n",
    "    print(artistMap.get(i.product), i.rating)"
   ]
  },
  {
   "cell_type": "code",
   "execution_count": null,
   "metadata": {
    "collapsed": true
   },
   "outputs": [],
   "source": []
  }
 ],
 "metadata": {
  "kernelspec": {
   "display_name": "Python 3",
   "language": "python",
   "name": "python3"
  },
  "language_info": {
   "codemirror_mode": {
    "name": "ipython",
    "version": 3
   },
   "file_extension": ".py",
   "mimetype": "text/x-python",
   "name": "python",
   "nbconvert_exporter": "python",
   "pygments_lexer": "ipython3",
   "version": "3.6.4"
  }
 },
 "nbformat": 4,
 "nbformat_minor": 1
}
