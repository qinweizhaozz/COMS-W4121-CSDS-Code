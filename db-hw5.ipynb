{
 "cells": [
  {
   "cell_type": "code",
   "execution_count": 1,
   "metadata": {
    "collapsed": true
   },
   "outputs": [],
   "source": [
    "import mysql.connector"
   ]
  },
  {
   "cell_type": "code",
   "execution_count": 2,
   "metadata": {
    "collapsed": true
   },
   "outputs": [],
   "source": [
    "def find_mysql_by_id(input_id):\n",
    "    cnx = mysql.connector.connect(user='root', password='Dearlayla527',\n",
    "                              host='127.0.0.1',\n",
    "                              database='finalexamhw5')\n",
    "    cursor = cnx.cursor(dictionary=True)\n",
    "    query = (\"SELECT * from MasterSmall where playerID = %(plyID)s;\")\n",
    "    cursor.execute(query,{'plyID':input_id})\n",
    "    results = cursor.fetchall()\n",
    "    cursor.close()\n",
    "    cnx.close()\n",
    "    return results[0]"
   ]
  },
  {
   "cell_type": "code",
   "execution_count": 12,
   "metadata": {},
   "outputs": [
    {
     "data": {
      "text/plain": [
       "{u'birthCountry': u'USA',\n",
       " u'birthYear': 1981,\n",
       " u'nameFirst': u'David',\n",
       " u'nameLast': u'Aardsma',\n",
       " u'playerID': u'aardsda01'}"
      ]
     },
     "execution_count": 12,
     "metadata": {},
     "output_type": "execute_result"
    }
   ],
   "source": [
    "find_mysql_by_id('aardsda01')"
   ]
  },
  {
   "cell_type": "code",
   "execution_count": 4,
   "metadata": {
    "collapsed": true
   },
   "outputs": [],
   "source": [
    "import redis"
   ]
  },
  {
   "cell_type": "code",
   "execution_count": 5,
   "metadata": {
    "collapsed": true
   },
   "outputs": [],
   "source": [
    "def find_redis_by_id(input_id):\n",
    "    r = redis.StrictRedis(host='localhost',port=6379,charset=\"utf-8\", decode_responses=True)\n",
    "    v=r.hgetall('players:'+input_id)\n",
    "    return v"
   ]
  },
  {
   "cell_type": "code",
   "execution_count": 6,
   "metadata": {},
   "outputs": [
    {
     "data": {
      "text/plain": [
       "{}"
      ]
     },
     "execution_count": 6,
     "metadata": {},
     "output_type": "execute_result"
    }
   ],
   "source": [
    "find_redis_by_id('aardsda01')"
   ]
  },
  {
   "cell_type": "code",
   "execution_count": 7,
   "metadata": {
    "collapsed": true
   },
   "outputs": [],
   "source": [
    "def add_to_redis(input_id, data): \n",
    "    r = redis.StrictRedis(host='localhost',port=6379,charset=\"utf-8\", decode_responses=True)\n",
    "    r.hmset('players:' + input_id, data)"
   ]
  },
  {
   "cell_type": "code",
   "execution_count": 8,
   "metadata": {
    "collapsed": true
   },
   "outputs": [],
   "source": [
    "data = find_mysql_by_id('aardsda01')\n",
    "add_to_redis('aardsda01', data)"
   ]
  },
  {
   "cell_type": "code",
   "execution_count": 9,
   "metadata": {},
   "outputs": [
    {
     "data": {
      "text/plain": [
       "{u'birthCountry': u'USA',\n",
       " u'birthYear': u'1981',\n",
       " u'nameFirst': u'David',\n",
       " u'nameLast': u'Aardsma',\n",
       " u'playerID': u'aardsda01'}"
      ]
     },
     "execution_count": 9,
     "metadata": {},
     "output_type": "execute_result"
    }
   ],
   "source": [
    "find_redis_by_id('aardsda01')"
   ]
  },
  {
   "cell_type": "code",
   "execution_count": 10,
   "metadata": {
    "collapsed": true
   },
   "outputs": [],
   "source": [
    "def find_by_id(input_id):\n",
    "    res = find_redis_by_id(input_id)\n",
    "    if not res:\n",
    "        data = find_mysql_by_id(input_id)\n",
    "        add_to_redis(input_id, data)\n",
    "        res = find_redis_by_id(input_id)\n",
    "    return res"
   ]
  },
  {
   "cell_type": "code",
   "execution_count": 11,
   "metadata": {},
   "outputs": [
    {
     "data": {
      "text/plain": [
       "{u'birthCountry': u'USA',\n",
       " u'birthYear': u'1981',\n",
       " u'nameFirst': u'Mike',\n",
       " u'nameLast': u'Napoli',\n",
       " u'playerID': u'napolmi01'}"
      ]
     },
     "execution_count": 11,
     "metadata": {},
     "output_type": "execute_result"
    }
   ],
   "source": [
    "find_by_id('napolmi01')"
   ]
  },
  {
   "cell_type": "code",
   "execution_count": null,
   "metadata": {
    "collapsed": true
   },
   "outputs": [],
   "source": []
  }
 ],
 "metadata": {
  "kernelspec": {
   "display_name": "Python 3",
   "language": "python",
   "name": "python3"
  },
  "language_info": {
   "codemirror_mode": {
    "name": "ipython",
    "version": 3
   },
   "file_extension": ".py",
   "mimetype": "text/x-python",
   "name": "python",
   "nbconvert_exporter": "python",
   "pygments_lexer": "ipython3",
   "version": "3.6.4"
  }
 },
 "nbformat": 4,
 "nbformat_minor": 2
}
